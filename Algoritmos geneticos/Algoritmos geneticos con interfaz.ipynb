{
 "cells": [
  {
   "cell_type": "markdown",
   "metadata": {
    "id": "CTrBoLKwbqPH"
   },
   "source": [
    "## Librerias"
   ]
  },
  {
   "cell_type": "code",
   "execution_count": 41,
   "metadata": {
    "executionInfo": {
     "elapsed": 559,
     "status": "ok",
     "timestamp": 1607991939146,
     "user": {
      "displayName": "David Vazquez",
      "photoUrl": "https://lh3.googleusercontent.com/a-/AOh14GjHoYGA8eVgXoIBIWSk9eVDmeDcobPMUlDHXOiFNQ=s64",
      "userId": "08767891319072212871"
     },
     "user_tz": 360
    },
    "id": "afq_egXMCmPM"
   },
   "outputs": [],
   "source": [
    "import numpy as np\n",
    "import random\n",
    "import copy\n",
    "import collections\n",
    "import PySimpleGUI as sg\n",
    "import csv\n",
    "import pandas\n",
    "import time\n",
    "from itertools import chain"
   ]
  },
  {
   "cell_type": "markdown",
   "metadata": {
    "id": "pFUoZE5YCmPN"
   },
   "source": [
    "# Distancias "
   ]
  },
  {
   "cell_type": "code",
   "execution_count": 42,
   "metadata": {
    "executionInfo": {
     "elapsed": 473,
     "status": "ok",
     "timestamp": 1607991942674,
     "user": {
      "displayName": "David Vazquez",
      "photoUrl": "https://lh3.googleusercontent.com/a-/AOh14GjHoYGA8eVgXoIBIWSk9eVDmeDcobPMUlDHXOiFNQ=s64",
      "userId": "08767891319072212871"
     },
     "user_tz": 360
    },
    "id": "_pTwCl4eCmPO"
   },
   "outputs": [],
   "source": [
    "def distanciaHamming(cadena_uno, cadena_dos):\n",
    "    distancia = 0\n",
    "    for i in range(len(cadena_uno)):\n",
    "        if cadena_uno[i] != cadena_dos[i]:\n",
    "            distancia = distancia + 1\n",
    "    return distancia"
   ]
  },
  {
   "cell_type": "code",
   "execution_count": 43,
   "metadata": {
    "executionInfo": {
     "elapsed": 726,
     "status": "ok",
     "timestamp": 1607991942933,
     "user": {
      "displayName": "David Vazquez",
      "photoUrl": "https://lh3.googleusercontent.com/a-/AOh14GjHoYGA8eVgXoIBIWSk9eVDmeDcobPMUlDHXOiFNQ=s64",
      "userId": "08767891319072212871"
     },
     "user_tz": 360
    },
    "id": "pVFKRRsRCmPO"
   },
   "outputs": [],
   "source": [
    "def distanciaEuclidiana(cadena_uno, cadena_dos):\n",
    "    distancia = 0\n",
    "   \n",
    "    for i in range(len(cadena_uno)):\n",
    "        distancia = distancia + ((cadena_uno[i] - cadena_dos[i])**2)\n",
    "    distancia = np.sqrt(distancia)\n",
    "    ##print(cadena_uno, cadena_dos, distancia)\n",
    "    return distancia"
   ]
  },
  {
   "cell_type": "markdown",
   "metadata": {
    "id": "IulCjO09CmPO"
   },
   "source": [
    "# Operadores de selección"
   ]
  },
  {
   "cell_type": "markdown",
   "metadata": {
    "id": "CqMiRiC_CmPO"
   },
   "source": [
    "### Algoritmo de selección NAM"
   ]
  },
  {
   "cell_type": "code",
   "execution_count": 44,
   "metadata": {
    "executionInfo": {
     "elapsed": 464,
     "status": "ok",
     "timestamp": 1607991945188,
     "user": {
      "displayName": "David Vazquez",
      "photoUrl": "https://lh3.googleusercontent.com/a-/AOh14GjHoYGA8eVgXoIBIWSk9eVDmeDcobPMUlDHXOiFNQ=s64",
      "userId": "08767891319072212871"
     },
     "user_tz": 360
    },
    "id": "qt8H3tZBCmPO"
   },
   "outputs": [],
   "source": [
    "def NAM (poblacion, evaluaciones, funcionDistancia = 0, numero_padres = 0, tam_torneo = 0, maximizar=True):\n",
    "    #evaluaciones = evaluaciones.astype(int)\n",
    "    padres = []\n",
    "    posicion_padre_uno = np.random.randint(len(poblacion))-1\n",
    "    padres.append(poblacion[posicion_padre_uno]) \n",
    "    lejano = 0\n",
    "    for i in range(len(poblacion)):\n",
    "        distancia =  eval(funcionDistancia + '(poblacion[posicion_padre_uno], poblacion[i])')\n",
    "        if distancia > lejano:\n",
    "            padre_dos = poblacion[i]\n",
    "            lejano = distancia\n",
    "    padres.append(padre_dos)\n",
    "    return padres"
   ]
  },
  {
   "cell_type": "markdown",
   "metadata": {
    "id": "du0UQBqnCmPO"
   },
   "source": [
    "### Algoritmo de selección proporcional"
   ]
  },
  {
   "cell_type": "code",
   "execution_count": 45,
   "metadata": {
    "executionInfo": {
     "elapsed": 726,
     "status": "ok",
     "timestamp": 1607991945458,
     "user": {
      "displayName": "David Vazquez",
      "photoUrl": "https://lh3.googleusercontent.com/a-/AOh14GjHoYGA8eVgXoIBIWSk9eVDmeDcobPMUlDHXOiFNQ=s64",
      "userId": "08767891319072212871"
     },
     "user_tz": 360
    },
    "id": "-kaXYWupCmPO"
   },
   "outputs": [],
   "source": [
    "def proporcional (poblacion, evaluaciones, funcionDistancia = 0, numero_padres = 0, tam_torneo = 0, maximizar=True):\n",
    "    probabilidades = []\n",
    "    padres = []\n",
    "    sumatoria = np.sum(evaluaciones)\n",
    "    for i in range(len(evaluaciones)):\n",
    "        if maximizar == True:\n",
    "            probabilidades.append(evaluaciones[i]/sumatoria)##1-(i/sumatoria) para min\n",
    "        else:\n",
    "            probabilidades.append(1-(evaluaciones[i]/sumatoria))\n",
    "    for i in range(len(probabilidades)-1):\n",
    "        probabilidades[i+1] = probabilidades[i] + probabilidades[i+1]\n",
    "    for i in range(numero_padres):\n",
    "        valor = np.random.uniform(0,1)\n",
    "        bandera = 1\n",
    "        j = 0\n",
    "        while bandera == 1:\n",
    "            if valor < probabilidades[j]:\n",
    "                padres.append(poblacion[j])\n",
    "                bandera = 0\n",
    "            j = j + 1\n",
    "    return padres "
   ]
  },
  {
   "cell_type": "markdown",
   "metadata": {
    "id": "PWw18zQlCmPO"
   },
   "source": [
    "### Algoritmo de selección por torneo "
   ]
  },
  {
   "cell_type": "code",
   "execution_count": 46,
   "metadata": {
    "executionInfo": {
     "elapsed": 722,
     "status": "ok",
     "timestamp": 1607991945459,
     "user": {
      "displayName": "David Vazquez",
      "photoUrl": "https://lh3.googleusercontent.com/a-/AOh14GjHoYGA8eVgXoIBIWSk9eVDmeDcobPMUlDHXOiFNQ=s64",
      "userId": "08767891319072212871"
     },
     "user_tz": 360
    },
    "id": "8pqly5GQCmPO"
   },
   "outputs": [],
   "source": [
    "def torneo (poblacion, evaluaciones, funcionDistancia = 0, numero_padres = 0, tam_torneo = 0, maximizar=True):\n",
    "    padres = []\n",
    "    \n",
    "    for i in range(numero_padres):\n",
    "        torneo = []\n",
    "        sujetos = []\n",
    "        for j in range(tam_torneo):\n",
    "            posicion = (np.random.randint(0,len(evaluaciones)))\n",
    "            sujetos.append(poblacion[posicion])\n",
    "            torneo.append(evaluaciones[posicion])\n",
    "            \n",
    "        padres.append(sujetos[np.argmax(torneo)])\n",
    "        \n",
    "    return padres"
   ]
  },
  {
   "cell_type": "markdown",
   "metadata": {
    "id": "af6X2mjjCmPP"
   },
   "source": [
    "# Operadores de Cruzamiento"
   ]
  },
  {
   "cell_type": "markdown",
   "metadata": {
    "id": "0LXCOsbPCmPP"
   },
   "source": [
    "###  Cruza en un punto"
   ]
  },
  {
   "cell_type": "code",
   "execution_count": 47,
   "metadata": {
    "executionInfo": {
     "elapsed": 473,
     "status": "ok",
     "timestamp": 1607991947525,
     "user": {
      "displayName": "David Vazquez",
      "photoUrl": "https://lh3.googleusercontent.com/a-/AOh14GjHoYGA8eVgXoIBIWSk9eVDmeDcobPMUlDHXOiFNQ=s64",
      "userId": "08767891319072212871"
     },
     "user_tz": 360
    },
    "id": "b-7fIPR0CmPP"
   },
   "outputs": [],
   "source": [
    "def cruza1Punto(padres, cruze):\n",
    "    hijos = []\n",
    "    i = 0\n",
    "    while i < len(padres):\n",
    "        pareja = copy.copy(padres)\n",
    "        hijo1 = np.append(pareja[0][:cruze], pareja[1][cruze:])\n",
    "        hijo2 = np.append(pareja[1][:cruze], pareja[0][cruze:])\n",
    "        i = i + 2\n",
    "        hijos.append(hijo1)\n",
    "        hijos.append(hijo2)\n",
    "    return hijos"
   ]
  },
  {
   "cell_type": "markdown",
   "metadata": {
    "id": "DLMnlku8CmPP"
   },
   "source": [
    "###  Cruza en 'N' puntos"
   ]
  },
  {
   "cell_type": "code",
   "execution_count": 48,
   "metadata": {
    "executionInfo": {
     "elapsed": 702,
     "status": "ok",
     "timestamp": 1607991947760,
     "user": {
      "displayName": "David Vazquez",
      "photoUrl": "https://lh3.googleusercontent.com/a-/AOh14GjHoYGA8eVgXoIBIWSk9eVDmeDcobPMUlDHXOiFNQ=s64",
      "userId": "08767891319072212871"
     },
     "user_tz": 360
    },
    "id": "uYfxdVkECmPP"
   },
   "outputs": [],
   "source": [
    "def cruzaNPuntos(padres, puntos = 0, num_hijos=0):\n",
    "    cruces = []\n",
    "    hijos = copy.copy(padres)\n",
    "    \n",
    "    while len(hijos) < num_hijos:\n",
    "        while len(cruces) < puntos:\n",
    "            punto = random.randint(1,len(padres[0]))\n",
    "            if punto not in cruces:\n",
    "                cruces.append(punto)\n",
    "\n",
    "        for i in cruces:\n",
    "            hijos = cruza1Punto(hijos, i)\n",
    "    return hijos"
   ]
  },
  {
   "cell_type": "markdown",
   "metadata": {
    "id": "1IKfDK8mCmPP"
   },
   "source": [
    "###  Cruza uniforme"
   ]
  },
  {
   "cell_type": "code",
   "execution_count": 49,
   "metadata": {
    "executionInfo": {
     "elapsed": 695,
     "status": "ok",
     "timestamp": 1607991947760,
     "user": {
      "displayName": "David Vazquez",
      "photoUrl": "https://lh3.googleusercontent.com/a-/AOh14GjHoYGA8eVgXoIBIWSk9eVDmeDcobPMUlDHXOiFNQ=s64",
      "userId": "08767891319072212871"
     },
     "user_tz": 360
    },
    "id": "pP8DWo9LCmPP"
   },
   "outputs": [],
   "source": [
    "def cruzaUniforme(padres, puntos = 0, num_hijos=0):\n",
    "    hijos = []\n",
    "    i = 0\n",
    "    while i < len(padres):\n",
    "        pareja = copy.copy(padres)\n",
    "        hijo1 = []\n",
    "        hijo2 = []\n",
    "        for j in range(len(padres[0])):\n",
    "            selec = random.randint(0,1)\n",
    "            #print(selec)\n",
    "            hijo1 = np.append(hijo1, pareja[selec][j])\n",
    "            hijo2 = np.append(hijo2, pareja[abs(selec-1)][j])\n",
    "        i = i+2\n",
    "        hijos.append(hijo1)\n",
    "        hijos.append(hijo2)\n",
    "        #print(pareja)\n",
    "        #print(hijo1)\n",
    "        #print(hijo2)\n",
    "    return hijos"
   ]
  },
  {
   "cell_type": "markdown",
   "metadata": {
    "id": "-Il57hinZlcf"
   },
   "source": [
    "### Cruzamiento ordenado (OX)"
   ]
  },
  {
   "cell_type": "code",
   "execution_count": 50,
   "metadata": {
    "executionInfo": {
     "elapsed": 691,
     "status": "ok",
     "timestamp": 1607991947761,
     "user": {
      "displayName": "David Vazquez",
      "photoUrl": "https://lh3.googleusercontent.com/a-/AOh14GjHoYGA8eVgXoIBIWSk9eVDmeDcobPMUlDHXOiFNQ=s64",
      "userId": "08767891319072212871"
     },
     "user_tz": 360
    },
    "id": "4opnUQcWZ13W"
   },
   "outputs": [],
   "source": [
    "def cruzaOrdenada(padres, puntos = 0, num_hijos=2):\n",
    "    hijos = np.full((num_hijos,len(padres[0])-1), -1)\n",
    "\n",
    "    # Eliminar ciudad repetida\n",
    "    for j in range(len(padres)):\n",
    "        padres[j] = padres[j][:-1]\n",
    "    # Creación de un hijo\n",
    "    for i in range(num_hijos):\n",
    "        posiciones = np.sort(np.random.choice(list(range(0, len(padres[1])+1)), 2, replace=False))\n",
    "        subtour = padres[0][posiciones[0]:posiciones[1]]\n",
    "\n",
    "        hijos[i] = np.full(len(padres[0]), -1)\n",
    "        \n",
    "\n",
    "        hijos[i][posiciones[0]:posiciones[1]] = subtour\n",
    "        # Completar el hijo\n",
    "        for idx in range(len(padres[0])):\n",
    "            ciudad = padres[1][idx]\n",
    "            if ciudad not in hijos[i]:\n",
    "                bandera = True\n",
    "                j = 0\n",
    "                while bandera == True:\n",
    "                    if hijos[i][j] == -1:\n",
    "                        hijos[i][j] = ciudad\n",
    "                        bandera = False\n",
    "                    else:\n",
    "                        j = j+1\n",
    "        padres[0], padres[1] = padres[1], padres[0]\n",
    "    hijos2 = []\n",
    "    for i in range(len(hijos)):\n",
    "        hijo = np.append(hijos[i],hijos[i][0])\n",
    "        hijos2.append(hijo)\n",
    "    return hijos2\n"
   ]
  },
  {
   "cell_type": "markdown",
   "metadata": {
    "id": "sYbQy1n9O02I"
   },
   "source": [
    "### Cruzamiento Aritmético"
   ]
  },
  {
   "cell_type": "code",
   "execution_count": 51,
   "metadata": {
    "executionInfo": {
     "elapsed": 686,
     "status": "ok",
     "timestamp": 1607991947761,
     "user": {
      "displayName": "David Vazquez",
      "photoUrl": "https://lh3.googleusercontent.com/a-/AOh14GjHoYGA8eVgXoIBIWSk9eVDmeDcobPMUlDHXOiFNQ=s64",
      "userId": "08767891319072212871"
     },
     "user_tz": 360
    },
    "id": "YIINzXKAO6PL"
   },
   "outputs": [],
   "source": [
    "def cruza_aritmetica(padres, puntos = 0, num_hijos=0):\n",
    "  hijos = np.full((2,len(padres[0])), -1, dtype='float64')\n",
    "  alpha = np.random.uniform(0,1)\n",
    "  for i in range(len(padres[0])):\n",
    "    hijos[0][i] = (alpha*padres[0][i]) + ((1-alpha)*padres[1][i])\n",
    "    hijos[1][i] = (alpha*padres[1][i]) + ((1-alpha)*padres[0][i])\n",
    "  return hijos"
   ]
  },
  {
   "cell_type": "markdown",
   "metadata": {
    "id": "30WEIUKqovHD"
   },
   "source": [
    "# Operadores de Mutación"
   ]
  },
  {
   "cell_type": "markdown",
   "metadata": {
    "id": "fJGyrPg8o13n"
   },
   "source": [
    "### Swap (EM)"
   ]
  },
  {
   "cell_type": "code",
   "execution_count": 52,
   "metadata": {
    "executionInfo": {
     "elapsed": 963,
     "status": "ok",
     "timestamp": 1607991949826,
     "user": {
      "displayName": "David Vazquez",
      "photoUrl": "https://lh3.googleusercontent.com/a-/AOh14GjHoYGA8eVgXoIBIWSk9eVDmeDcobPMUlDHXOiFNQ=s64",
      "userId": "08767891319072212871"
     },
     "user_tz": 360
    },
    "id": "AB7pPPN9qI4Z"
   },
   "outputs": [],
   "source": [
    "def swap(hijo, probabilidad_m):\n",
    "  prob_ind = np.random.random()\n",
    "  if prob_ind <= probabilidad_m:\n",
    "    hijo = hijo[0:-1]\n",
    "    posiciones = np.sort(np.random.choice(list(range(0, len(hijo))), 2, replace=False))\n",
    "    hijo_mutante = copy.copy(hijo)\n",
    "    hijo_mutante[posiciones[0]] = hijo[posiciones[1]]\n",
    "    hijo_mutante[posiciones[1]] = hijo[posiciones[0]]\n",
    "    hijo_mutante = np.append(hijo_mutante,hijo_mutante[0])\n",
    "    print('Posiciones = ',posiciones)\n",
    "  else:\n",
    "    hijo_mutante = copy.copy(hijo)\n",
    "  return hijo_mutante\n"
   ]
  },
  {
   "cell_type": "markdown",
   "metadata": {
    "id": "j-Q4oDePrb2n"
   },
   "source": [
    "### Swap (EM) por gen"
   ]
  },
  {
   "cell_type": "code",
   "execution_count": 53,
   "metadata": {
    "executionInfo": {
     "elapsed": 958,
     "status": "ok",
     "timestamp": 1607991949826,
     "user": {
      "displayName": "David Vazquez",
      "photoUrl": "https://lh3.googleusercontent.com/a-/AOh14GjHoYGA8eVgXoIBIWSk9eVDmeDcobPMUlDHXOiFNQ=s64",
      "userId": "08767891319072212871"
     },
     "user_tz": 360
    },
    "id": "LCmVOd3srfG4"
   },
   "outputs": [],
   "source": [
    "def swap_por_gen(hijo, probabilidad_m):\n",
    "  hijo = hijo[0:-1]\n",
    "  hijo_mutante = copy.copy(hijo)\n",
    "  for gen1 in range(len(hijo)):\n",
    "    prob_gen = np.random.random()\n",
    "    if prob_gen <= probabilidad_m:\n",
    "      gen2 = np.random.randint(gen1,len(hijo))\n",
    "      hijo_mutante[gen1], hijo_mutante[gen2] = hijo_mutante[gen2], hijo_mutante[gen1]\n",
    "  hijo_mutante = np.append(hijo_mutante, hijo_mutante[0])\n",
    "  return hijo_mutante"
   ]
  },
  {
   "cell_type": "markdown",
   "metadata": {
    "id": "9t58QfMF8Qt7"
   },
   "source": [
    "### Inversión Simple (SIM)"
   ]
  },
  {
   "cell_type": "code",
   "execution_count": 54,
   "metadata": {
    "executionInfo": {
     "elapsed": 953,
     "status": "ok",
     "timestamp": 1607991949826,
     "user": {
      "displayName": "David Vazquez",
      "photoUrl": "https://lh3.googleusercontent.com/a-/AOh14GjHoYGA8eVgXoIBIWSk9eVDmeDcobPMUlDHXOiFNQ=s64",
      "userId": "08767891319072212871"
     },
     "user_tz": 360
    },
    "id": "TNMbiAlD8XJ6"
   },
   "outputs": [],
   "source": [
    "def sim(hijo, probabilidad_m):\n",
    "  prob_ind = np.random.random()\n",
    "  if prob_ind <= probabilidad_m:\n",
    "    hijo = hijo[0:-1]\n",
    "    posiciones = np.sort(np.random.choice(list(range(0, len(hijo))), 2, replace=False))\n",
    "    hijo_mutante = copy.copy(hijo)\n",
    "    subtour = hijo[posiciones[0]:posiciones[1]+1]\n",
    "    subtour = subtour[::-1]\n",
    "    hijo_mutante[posiciones[0]:posiciones[1]+1] = subtour\n",
    "    hijo_mutante = np.append(hijo_mutante,hijo_mutante[0])\n",
    "  else:\n",
    "    hijo_mutante = copy.copy(hijo)\n",
    "  return hijo_mutante"
   ]
  },
  {
   "cell_type": "markdown",
   "metadata": {
    "id": "Bx64JP4dm4nc"
   },
   "source": [
    "### Inversión Simple (SIM) por gen"
   ]
  },
  {
   "cell_type": "code",
   "execution_count": 55,
   "metadata": {
    "executionInfo": {
     "elapsed": 949,
     "status": "ok",
     "timestamp": 1607991949827,
     "user": {
      "displayName": "David Vazquez",
      "photoUrl": "https://lh3.googleusercontent.com/a-/AOh14GjHoYGA8eVgXoIBIWSk9eVDmeDcobPMUlDHXOiFNQ=s64",
      "userId": "08767891319072212871"
     },
     "user_tz": 360
    },
    "id": "ECFNBwHum_5Z"
   },
   "outputs": [],
   "source": [
    "def sim_por_gen(hijo, probabilidad_m):\n",
    "  hijo = hijo[0:-1]\n",
    "  hijo_mutante = copy.copy(hijo)\n",
    "  for pos_in in range(len(hijo)):\n",
    "    prob_gen = np.random.random()\n",
    "    if prob_gen <= probabilidad_m:\n",
    "      pos_final = np.random.randint(pos_in, len(hijo))\n",
    "      subtour = hijo_mutante[pos_in:pos_final]\n",
    "      subtour = subtour[::-1]\n",
    "      hijo_mutante[pos_in:pos_final] = subtour\n",
    "  hijo_mutante = np.append(hijo_mutante, hijo_mutante[0])\n",
    "  return hijo_mutante"
   ]
  },
  {
   "cell_type": "markdown",
   "metadata": {
    "id": "Cj9ESeWuCU6h"
   },
   "source": [
    "### Mutación Uniforme"
   ]
  },
  {
   "cell_type": "code",
   "execution_count": 56,
   "metadata": {
    "executionInfo": {
     "elapsed": 945,
     "status": "ok",
     "timestamp": 1607991949827,
     "user": {
      "displayName": "David Vazquez",
      "photoUrl": "https://lh3.googleusercontent.com/a-/AOh14GjHoYGA8eVgXoIBIWSk9eVDmeDcobPMUlDHXOiFNQ=s64",
      "userId": "08767891319072212871"
     },
     "user_tz": 360
    },
    "id": "Pg6mq-AlCXzA"
   },
   "outputs": [],
   "source": [
    "def uniform_mutation(hijo, rango, probabilidad_m):\n",
    "  hijo_mutado = copy.copy(hijo)\n",
    "  for posicion in range(len(hijo)):\n",
    "    prob_gen = np.random.random()\n",
    "    if prob_gen <= probabilidad_m:\n",
    "      gen_mutado = np.random.uniform(rango[0], rango[1])\n",
    "      hijo_mutado[posicion] = gen_mutado\n",
    "  return hijo_mutado"
   ]
  },
  {
   "cell_type": "markdown",
   "metadata": {
    "id": "8eIcCRsUI08C"
   },
   "source": [
    "### Mutación Límite"
   ]
  },
  {
   "cell_type": "code",
   "execution_count": 57,
   "metadata": {
    "executionInfo": {
     "elapsed": 940,
     "status": "ok",
     "timestamp": 1607991949827,
     "user": {
      "displayName": "David Vazquez",
      "photoUrl": "https://lh3.googleusercontent.com/a-/AOh14GjHoYGA8eVgXoIBIWSk9eVDmeDcobPMUlDHXOiFNQ=s64",
      "userId": "08767891319072212871"
     },
     "user_tz": 360
    },
    "id": "f2yO09gMI9IV"
   },
   "outputs": [],
   "source": [
    "def boundary_mutation(hijo, rango, probabilidad_m):\n",
    "  hijo_mutante = copy.copy(hijo)\n",
    "  for posicion in range(len(hijo)):\n",
    "    prob_gen = np.random.random()\n",
    "    if prob_gen <= probabilidad_m:\n",
    "      prob_limite = np.random.random()\n",
    "      if prob_limite <= 0.5:\n",
    "        gen_mutado = rango[0]\n",
    "        hijo_mutante[posicion] = gen_mutado\n",
    "      else:\n",
    "        gen_mutado = rango[1]\n",
    "        hijo_mutante[posicion] = gen_mutado\n",
    "  return hijo_mutante"
   ]
  },
  {
   "cell_type": "markdown",
   "metadata": {
    "id": "nW7Bsf-lqIh1"
   },
   "source": [
    "### Mutacion binaria"
   ]
  },
  {
   "cell_type": "code",
   "execution_count": 58,
   "metadata": {
    "executionInfo": {
     "elapsed": 936,
     "status": "ok",
     "timestamp": 1607991949828,
     "user": {
      "displayName": "David Vazquez",
      "photoUrl": "https://lh3.googleusercontent.com/a-/AOh14GjHoYGA8eVgXoIBIWSk9eVDmeDcobPMUlDHXOiFNQ=s64",
      "userId": "08767891319072212871"
     },
     "user_tz": 360
    },
    "id": "x7tK5H7XqNbF"
   },
   "outputs": [],
   "source": [
    "def mutacion_bin(hijo, probabilidad_m):\n",
    "  hijo_mutante = copy.copy(hijo)\n",
    "  for posicion in range(len(hijo)):\n",
    "    prob_gen = np.random.random()\n",
    "    gen = hijo[posicion]\n",
    "    if ((gen == 1) and (prob_gen <= probabilidad_m)):\n",
    "      gen_mutado = 0\n",
    "      hijo_mutante[posicion] = gen_mutado\n",
    "    elif ((gen == 0) and (prob_gen <= probabilidad_m)):\n",
    "      gen_mutado = 1\n",
    "      hijo_mutante[posicion] = gen_mutado\n",
    "  return hijo_mutante"
   ]
  },
  {
   "cell_type": "markdown",
   "metadata": {
    "id": "e0HNu41foAKn"
   },
   "source": [
    "# Operadores de Reemplazo"
   ]
  },
  {
   "cell_type": "markdown",
   "metadata": {
    "id": "cR2eg9broJat"
   },
   "source": [
    "### Random"
   ]
  },
  {
   "cell_type": "code",
   "execution_count": 59,
   "metadata": {
    "executionInfo": {
     "elapsed": 720,
     "status": "ok",
     "timestamp": 1607991951581,
     "user": {
      "displayName": "David Vazquez",
      "photoUrl": "https://lh3.googleusercontent.com/a-/AOh14GjHoYGA8eVgXoIBIWSk9eVDmeDcobPMUlDHXOiFNQ=s64",
      "userId": "08767891319072212871"
     },
     "user_tz": 360
    },
    "id": "1n2tIiy6oMQF"
   },
   "outputs": [],
   "source": [
    "def reemplazo_rand(poblacion, hijos, valores=0, padres=0, f_evaluacion=0, f_distancia=0, n=0):\n",
    "  posiciones = np.random.choice(list(range(0, len(poblacion))), 2, replace=False)\n",
    "  poblacion[posiciones[0]] = hijos[0]\n",
    "  poblacion[posiciones[1]] = hijos[1]\n",
    "  return poblacion"
   ]
  },
  {
   "cell_type": "markdown",
   "metadata": {
    "id": "3c4Xkr8FqpYJ"
   },
   "source": [
    "### Crowding Determinista"
   ]
  },
  {
   "cell_type": "code",
   "execution_count": 60,
   "metadata": {
    "executionInfo": {
     "elapsed": 713,
     "status": "ok",
     "timestamp": 1607991951581,
     "user": {
      "displayName": "David Vazquez",
      "photoUrl": "https://lh3.googleusercontent.com/a-/AOh14GjHoYGA8eVgXoIBIWSk9eVDmeDcobPMUlDHXOiFNQ=s64",
      "userId": "08767891319072212871"
     },
     "user_tz": 360
    },
    "id": "_SHC5a33qvZt"
   },
   "outputs": [],
   "source": [
    "def reemplazo_CD(poblacion, hijos, valores=0, padres=0, f_evaluacion=0, f_distancia=0, n=0):\n",
    "  eval_padres = []\n",
    "  eval_hijos = []\n",
    "  distancias = []\n",
    "  newpoblacion = copy.copy(poblacion)\n",
    "  for individuo in padres:\n",
    "    eval_padre = f_evaluacion(individuo, valores)\n",
    "    eval_padres.append(eval_padre)\n",
    "  for individuo in hijos:\n",
    "    eval_hijo = f_evaluacion(individuo, valores)\n",
    "    eval_hijos.append(eval_hijo)\n",
    "  for padre in padres:\n",
    "    for hijo in hijos:\n",
    "        distancia = eval(f_distancia + '(padre,hijo)')\n",
    "        distancias.append(distancia)\n",
    "      #compite p1-> h1 & p2->h2\n",
    "  if (distancias[0] + distancias[3]) <= (distancias[1] + distancias[2]):\n",
    "    if eval_padres[0] < eval_hijos[0]:\n",
    "      for i in range(len(poblacion)):\n",
    "        if (poblacion[i] == padres[0]).all() == True:\n",
    "          newpoblacion[i] = hijos[0]\n",
    "    elif eval_padres[1] < eval_hijos[1]:\n",
    "      for i in range(len(poblacion)):\n",
    "        if (poblacion[i] == padres[1]).all() == True:\n",
    "          newpoblacion[i] = hijos[1]\n",
    "  else:\n",
    "    if eval_padres[0] < eval_hijos[1]:\n",
    "      for i in range(len(poblacion)):\n",
    "        if (poblacion[i] == padres[0]).all() == True:\n",
    "          newpoblacion[i] = hijos[1]\n",
    "    elif eval_padres[1] < eval_hijos[0]:\n",
    "      for i in range(len(poblacion)):\n",
    "        if (poblacion[i] == padres[1]).all() == True:\n",
    "          newpoblacion[i] = hijos[0]\n",
    "\n",
    "  \n",
    "  return newpoblacion"
   ]
  },
  {
   "cell_type": "markdown",
   "metadata": {
    "id": "ix6uLG0a3y21"
   },
   "source": [
    "### Torneo Restringido (TRS)"
   ]
  },
  {
   "cell_type": "code",
   "execution_count": 61,
   "metadata": {
    "executionInfo": {
     "elapsed": 709,
     "status": "ok",
     "timestamp": 1607991951582,
     "user": {
      "displayName": "David Vazquez",
      "photoUrl": "https://lh3.googleusercontent.com/a-/AOh14GjHoYGA8eVgXoIBIWSk9eVDmeDcobPMUlDHXOiFNQ=s64",
      "userId": "08767891319072212871"
     },
     "user_tz": 360
    },
    "id": "CF3ET-FR34qV"
   },
   "outputs": [],
   "source": [
    "def TRS(poblacion, hijos, valores=0, padres=0, f_evaluacion=0, f_distancia=0, n=0):\n",
    "  eval_hijos = []\n",
    "  eval_individuos = []\n",
    "  # Evaluacio de hijos\n",
    "  for individuo in hijos:\n",
    "    eval_hijo = f_evaluacion(individuo, valores)\n",
    "    eval_hijos.append(eval_hijo)\n",
    "  # n individuos\n",
    "  posiciones = np.random.choice(list(range(0, len(poblacion))), n, replace=False)\n",
    "\n",
    "  individuos = []\n",
    "  for hijo in hijos:\n",
    "    distancia = 9000\n",
    "    for i in posiciones:\n",
    "      dtemp = eval(f_distancia + '(hijo,poblacion[i])')\n",
    "      if dtemp < distancia:\n",
    "        distancia = dtemp\n",
    "        pos = i\n",
    "    individuos.append(pos)\n",
    "\n",
    "  # Evaluacio de individuos cercanos\n",
    "  for individuo in individuos:\n",
    "    eval_individuo = f_evaluacion(poblacion[individuo], valores)\n",
    "    eval_individuos.append(eval_individuo)\n",
    "\n",
    "  # Comparar\n",
    "  if eval_hijos[0] > eval_individuos[0]:\n",
    "    poblacion[individuos[0]] = hijos[0]\n",
    "  elif eval_hijos[1] > eval_individuos[1]:\n",
    "    poblacion[individuos[1]] = hijos[1]\n",
    "\n",
    "  return poblacion"
   ]
  },
  {
   "cell_type": "markdown",
   "metadata": {
    "id": "V-yjLenxYqJv"
   },
   "source": [
    "# Generadores de Población"
   ]
  },
  {
   "cell_type": "markdown",
   "metadata": {
    "id": "vOrnT3w-CmPP"
   },
   "source": [
    "### Poblacion para el problema de la mochila "
   ]
  },
  {
   "cell_type": "code",
   "execution_count": 62,
   "metadata": {},
   "outputs": [],
   "source": [
    "def PesoTotal(solucion,pesos,pesoM):\n",
    "    pesoT = 0\n",
    "    for i in range(len(solucion)):\n",
    "        if solucion[i] == 1:\n",
    "            pesoT = pesoT + pesos[i]\n",
    "    \n",
    "    # Verificar si la solucion es valida, si el peso cabe en la mochila\n",
    "    if pesoT <= pesoM:\n",
    "        posible = True\n",
    "    else:\n",
    "        posible = False\n",
    "    return posible"
   ]
  },
  {
   "cell_type": "code",
   "execution_count": 63,
   "metadata": {
    "executionInfo": {
     "elapsed": 434,
     "status": "ok",
     "timestamp": 1607991953877,
     "user": {
      "displayName": "David Vazquez",
      "photoUrl": "https://lh3.googleusercontent.com/a-/AOh14GjHoYGA8eVgXoIBIWSk9eVDmeDcobPMUlDHXOiFNQ=s64",
      "userId": "08767891319072212871"
     },
     "user_tz": 360
    },
    "id": "KumOKYo_CmPP"
   },
   "outputs": [],
   "source": [
    "def poblacionMochila (sujetos, dimension, pesos, pesoM):\n",
    "    poblacion = []\n",
    "    while len(poblacion) < sujetos:\n",
    "        sujeto = np.random.randint(2,size=(dimension))\n",
    "        pesoT = PesoTotal(sujeto,pesos,pesoM)\n",
    "        if pesoT == True:\n",
    "            poblacion.append(sujeto)\n",
    "    poblacion = np.array(poblacion)\n",
    "    return poblacion"
   ]
  },
  {
   "cell_type": "code",
   "execution_count": 64,
   "metadata": {},
   "outputs": [
    {
     "name": "stdout",
     "output_type": "stream",
     "text": [
      "[[1 0 1 0 0]\n",
      " [0 0 1 0 0]\n",
      " [1 0 1 0 0]\n",
      " [0 0 0 0 1]\n",
      " [1 0 0 0 0]]\n"
     ]
    }
   ],
   "source": [
    "valores = [1,5,9,10,5]\n",
    "poblacion = poblacionMochila(5,len(valores),valores,10)\n",
    "print(poblacion)"
   ]
  },
  {
   "cell_type": "markdown",
   "metadata": {
    "id": "9Igd7H84CmPP"
   },
   "source": [
    "### Población para el problema de minimos"
   ]
  },
  {
   "cell_type": "code",
   "execution_count": 65,
   "metadata": {
    "executionInfo": {
     "elapsed": 663,
     "status": "ok",
     "timestamp": 1607991954113,
     "user": {
      "displayName": "David Vazquez",
      "photoUrl": "https://lh3.googleusercontent.com/a-/AOh14GjHoYGA8eVgXoIBIWSk9eVDmeDcobPMUlDHXOiFNQ=s64",
      "userId": "08767891319072212871"
     },
     "user_tz": 360
    },
    "id": "Ft3Ba3pPZFqR"
   },
   "outputs": [],
   "source": [
    "def poblacionMinimos(sujetos, dimension,rango=[-10, 10]):\n",
    "    poblacion = np.zeros((sujetos,dimension))\n",
    "    for i in range(sujetos):\n",
    "        for j in range(dimension):\n",
    "            poblacion[i][j] = random.uniform(rango[0],rango[1])\n",
    "    return poblacion"
   ]
  },
  {
   "cell_type": "markdown",
   "metadata": {
    "id": "ekVAhN6KCmPP"
   },
   "source": [
    "### Poblacion para el problema del viajero "
   ]
  },
  {
   "cell_type": "code",
   "execution_count": 66,
   "metadata": {
    "executionInfo": {
     "elapsed": 659,
     "status": "ok",
     "timestamp": 1607991954114,
     "user": {
      "displayName": "David Vazquez",
      "photoUrl": "https://lh3.googleusercontent.com/a-/AOh14GjHoYGA8eVgXoIBIWSk9eVDmeDcobPMUlDHXOiFNQ=s64",
      "userId": "08767891319072212871"
     },
     "user_tz": 360
    },
    "id": "C4iNcVvrCmPP"
   },
   "outputs": [],
   "source": [
    "def poblacionViajero (sujetos, ciudades):\n",
    "    poblacion = np.zeros((sujetos,len(ciudades)))\n",
    "    for i in range(sujetos):\n",
    "        poblacion[i] = copy.copy(ciudades) \n",
    "        random.shuffle(poblacion[i])\n",
    "    camino_real = poblacion[:,0]\n",
    "    camino_real = camino_real.reshape((sujetos,1))\n",
    "    poblacion = np.concatenate((poblacion,camino_real), axis=1) \n",
    "    poblacion = poblacion.astype(int)\n",
    "    return poblacion"
   ]
  },
  {
   "cell_type": "markdown",
   "metadata": {
    "id": "AdNF09PWY36a"
   },
   "source": [
    "# Evaluaciones"
   ]
  },
  {
   "cell_type": "markdown",
   "metadata": {
    "id": "cdItQylvCmPP"
   },
   "source": [
    "### Evaluación de poblacion para el problema del viajero  "
   ]
  },
  {
   "cell_type": "code",
   "execution_count": 67,
   "metadata": {
    "executionInfo": {
     "elapsed": 513,
     "status": "ok",
     "timestamp": 1607991955399,
     "user": {
      "displayName": "David Vazquez",
      "photoUrl": "https://lh3.googleusercontent.com/a-/AOh14GjHoYGA8eVgXoIBIWSk9eVDmeDcobPMUlDHXOiFNQ=s64",
      "userId": "08767891319072212871"
     },
     "user_tz": 360
    },
    "id": "D4kFJ541CmPQ"
   },
   "outputs": [],
   "source": [
    "def evaluacionViajero (poblacion, valores):\n",
    "    distancia = np.zeros(len(poblacion))\n",
    "    for i in range(len(poblacion)):\n",
    "        for j in range(len(valores)):\n",
    "            ciudad1 = poblacion[i][j]\n",
    "            ciudad2 = poblacion[i][j+1]\n",
    "            ciudad1 = int(ciudad1)-1\n",
    "            ciudad2 = int(ciudad2)-1\n",
    "            distancia[i] = distancia[i] + valores[ciudad1][ciudad2]\n",
    "    return distancia"
   ]
  },
  {
   "cell_type": "markdown",
   "metadata": {},
   "source": [
    "### Individuo viajero"
   ]
  },
  {
   "cell_type": "code",
   "execution_count": 68,
   "metadata": {},
   "outputs": [],
   "source": [
    "def ind_viajero(camino, matriz_ady):\n",
    "    distancia = 0\n",
    "\n",
    "    for i in range(len(camino)-1):\n",
    "        ciudad1 = camino[i]-1\n",
    "        ciudad2 = camino[i+1]-1\n",
    "        distancia = distancia + matriz_ady[ciudad1,ciudad2]\n",
    "\n",
    "    return distancia"
   ]
  },
  {
   "cell_type": "markdown",
   "metadata": {
    "id": "p5pgtjH7CmPQ"
   },
   "source": [
    "### Evaluación de población del problema de la mochila"
   ]
  },
  {
   "cell_type": "code",
   "execution_count": 69,
   "metadata": {
    "executionInfo": {
     "elapsed": 508,
     "status": "ok",
     "timestamp": 1607991955400,
     "user": {
      "displayName": "David Vazquez",
      "photoUrl": "https://lh3.googleusercontent.com/a-/AOh14GjHoYGA8eVgXoIBIWSk9eVDmeDcobPMUlDHXOiFNQ=s64",
      "userId": "08767891319072212871"
     },
     "user_tz": 360
    },
    "id": "90dBtMvUCmPQ"
   },
   "outputs": [],
   "source": [
    "def evaluacionMochila (poblacion, valores):\n",
    "    evaluaciones = np.zeros(len(poblacion))\n",
    "    for i in range(len(poblacion)):\n",
    "        for j in range(len(poblacion[0])):\n",
    "            if poblacion [i,j] == 1:\n",
    "                evaluaciones[i] = evaluaciones[i] + valores[j] \n",
    "    return evaluaciones  "
   ]
  },
  {
   "cell_type": "markdown",
   "metadata": {
    "id": "-9f8dMjksNkT"
   },
   "source": [
    "### Individuo Mochila"
   ]
  },
  {
   "cell_type": "code",
   "execution_count": 70,
   "metadata": {
    "executionInfo": {
     "elapsed": 960,
     "status": "ok",
     "timestamp": 1607991955857,
     "user": {
      "displayName": "David Vazquez",
      "photoUrl": "https://lh3.googleusercontent.com/a-/AOh14GjHoYGA8eVgXoIBIWSk9eVDmeDcobPMUlDHXOiFNQ=s64",
      "userId": "08767891319072212871"
     },
     "user_tz": 360
    },
    "id": "cbzTqcgzsP4q"
   },
   "outputs": [],
   "source": [
    "def ind_mochila(solucion, valores):\n",
    "    valorT = 0\n",
    "    for i in range(len(solucion)):\n",
    "        if solucion[i] == 1:\n",
    "            valorT = valorT + valores[i]\n",
    "    return valorT"
   ]
  },
  {
   "cell_type": "markdown",
   "metadata": {},
   "source": [
    "### Solución Posible Mochila"
   ]
  },
  {
   "cell_type": "code",
   "execution_count": 71,
   "metadata": {},
   "outputs": [],
   "source": [
    "def verif_mochila(solucion,pesos,pesoM):\n",
    "    pesoT = 0\n",
    "    for i in range(len(solucion)):\n",
    "        if solucion[i] == 1:\n",
    "            pesoT = pesoT + pesos[i]\n",
    "    \n",
    "    # Verificar si la solucion es valida, si el peso cabe en la mochila\n",
    "    if pesoT <= pesoM:\n",
    "        posible = True\n",
    "    else:\n",
    "        posible = False\n",
    "    return posible\n"
   ]
  },
  {
   "cell_type": "markdown",
   "metadata": {
    "id": "KeTygXtzCmPQ"
   },
   "source": [
    "### Evaluación de población para el problema del minimos cuadrado "
   ]
  },
  {
   "cell_type": "code",
   "execution_count": 72,
   "metadata": {
    "executionInfo": {
     "elapsed": 955,
     "status": "ok",
     "timestamp": 1607991955858,
     "user": {
      "displayName": "David Vazquez",
      "photoUrl": "https://lh3.googleusercontent.com/a-/AOh14GjHoYGA8eVgXoIBIWSk9eVDmeDcobPMUlDHXOiFNQ=s64",
      "userId": "08767891319072212871"
     },
     "user_tz": 360
    },
    "id": "qcPhP3JrCmPQ"
   },
   "outputs": [],
   "source": [
    "def evaluacionMinimos (poblacion, valores=0):\n",
    "    evaluacion = np.zeros(len(poblacion)) \n",
    "    for i in range(len(poblacion)):\n",
    "        for j in range(len(poblacion[0])):\n",
    "            evaluacion[i] = evaluacion[i] + poblacion[i][j] ** 2\n",
    "    return evaluacion"
   ]
  },
  {
   "cell_type": "markdown",
   "metadata": {},
   "source": [
    "### Individuo minimos"
   ]
  },
  {
   "cell_type": "code",
   "execution_count": 73,
   "metadata": {},
   "outputs": [],
   "source": [
    "def ind_minimos(individuo, valores=0):\n",
    "    valor = 0\n",
    "    for i in individuo:\n",
    "        valor = valor + i\n",
    "    return valor"
   ]
  },
  {
   "cell_type": "markdown",
   "metadata": {},
   "source": [
    "### Funciones"
   ]
  },
  {
   "cell_type": "code",
   "execution_count": 74,
   "metadata": {},
   "outputs": [],
   "source": [
    "# Alpine 1 Function\n",
    "def Alpine1(solucion):\n",
    "    fx = 0\n",
    "    for x in solucion:\n",
    "        fx = fx + abs((x * np.sin(x)) + (0.1 * x))\n",
    "    return fx\n",
    "\n",
    "\n",
    "# Dixon & Price Function\n",
    "def Dixon(solucion):\n",
    "    dimensiones = len(solucion)\n",
    "    sumatoria = 0\n",
    "    termino_1 = np.square((solucion[0] - 1))\n",
    "    for i in range(1,dimensiones):\n",
    "        x = solucion[i]\n",
    "        pos = i + 1\n",
    "        sumatoria = sumatoria + (pos*np.square((2*np.sin(x)) - solucion[i-1]))\n",
    "    fx = termino_1 + sumatoria\n",
    "    return fx\n",
    "\n",
    "\n",
    "# Quintic Function\n",
    "def Quintic(solucion):\n",
    "    fx = 0\n",
    "    for x in solucion:\n",
    "        fx = fx + abs(np.power(x,5) - (3*np.power(x,4)) + (4*np.power(x,3)) - (2*np.power(x,2)) - (10*x) - 4)\n",
    "    return fx\n",
    "\n",
    "\n",
    "# Schwefel 2.23 Function\n",
    "def Schwefel(solucion):\n",
    "    fx = 0\n",
    "    for x in solucion:\n",
    "        fx = fx + np.power(x,10)\n",
    "    return fx\n",
    "\n",
    "\n",
    "# Streched V Sine Wave Function\n",
    "def Streched(solucion):\n",
    "    dimensiones = len(solucion)\n",
    "    fx = 0\n",
    "    for i in range(dimensiones - 1):\n",
    "        x1 = solucion[i]\n",
    "        x2 = solucion[i+1]\n",
    "        termino_1 = np.power((np.square(x2) + np.square(x1)),0.25)\n",
    "        termino_2 = np.square(np.sin((50*np.power((np.square(x2)+np.square(x1)),0.1)))) + 0.1\n",
    "        interno = termino_1 * termino_2\n",
    "        fx = fx + interno\n",
    "    return fx\n",
    "\n",
    "\n",
    "# Sum Squares Function\n",
    "def SumSquares(solucion):\n",
    "    dimensiones = len(solucion)\n",
    "    fx = 0\n",
    "    for i in range(dimensiones):\n",
    "        pos = i + 1\n",
    "        fx = fx + (pos * np.square(solucion[i]))\n",
    "    return fx"
   ]
  },
  {
   "cell_type": "markdown",
   "metadata": {
    "id": "nf274NbgyGCP"
   },
   "source": [
    "# Interfaz\n"
   ]
  },
  {
   "cell_type": "code",
   "execution_count": 75,
   "metadata": {
    "colab": {
     "base_uri": "https://localhost:8080/",
     "height": 354
    },
    "executionInfo": {
     "elapsed": 462,
     "status": "error",
     "timestamp": 1607991957919,
     "user": {
      "displayName": "David Vazquez",
      "photoUrl": "https://lh3.googleusercontent.com/a-/AOh14GjHoYGA8eVgXoIBIWSk9eVDmeDcobPMUlDHXOiFNQ=s64",
      "userId": "08767891319072212871"
     },
     "user_tz": 360
    },
    "id": "zazqKVLHyGCP",
    "outputId": "2957a475-6f45-4e8e-b712-8b6e523e924b"
   },
   "outputs": [],
   "source": [
    "layout = [\n",
    "            [sg.Text('Seleccione un archivo'),sg.Input(), sg.FileBrowse('Buscar')],\n",
    "            [sg.Text('Seleccione un problema')],\n",
    "            [sg.Radio('Mochila', \"problema\"), sg.Radio('Viajero', \"problema\"),sg.Radio('Minimos cuadrados', \"problema\", default=True)],\n",
    "            [sg.Text('Seleccione el operador de selección'),sg.Text('Seleccione el operador de cruzamiento'),sg.Text('Seleccione el operador de mutacion')],\n",
    "            [sg.InputCombo(('NAM', 'proporcional', 'torneo'),size=(25,1),default_value=\"proporcional\"),sg.InputCombo(('cruzaNPuntos', 'cruzaUniforme', 'cruzaOrdenada', 'cruza_aritmetica'),size=(25,1),default_value=\"cruza_aritmetica\"),sg.InputCombo(('swap', 'swap_por_gen', 'sim', 'sim_por_gen', 'uniform_mutation', 'boundary_mutation', 'mutacion_bin'),size=(25,1),default_value=\"uniform_mutation\")],\n",
    "            [sg.Text('Escriba la cantidad de generaciones'),sg.InputText(key='generaciones',default_text = 500)],\n",
    "            [sg.Text('Escriba la probabilidad de cruzamiento'),sg.InputText(key='cruzamiento',default_text = 0.9)],\n",
    "            [sg.Text('Escriba la probabilidad de mutación'),sg.InputText(key='mutation',default_text = 0.05),],\n",
    "            [sg.Text('Escriba el peso de la mochila'), sg.InputText(key='peso',default_text = 0)],\n",
    "            [],\n",
    "            [sg.Text('Dimension (problema de minimos cuadrados)'),sg.InputText(key='dimension',default_text = 30)],\n",
    "            [],\n",
    "            [sg.Text('Escriba el tamaño de la población'),sg.InputText(key='tam',default_text = 50)],\n",
    "            [],\n",
    "            [sg.Text('Seleccione la distancia para el operador NAM'),sg.InputCombo(('distanciaEuclidiana', 'distanciaHamming'),size=(25,1),default_value=\"distanciaEuclidiana\")],\n",
    "            [],\n",
    "            [sg.Text('Escriba el numero de padres para el operador de seleccion'),sg.InputText(key='padres', default_text = 2)],\n",
    "            [],\n",
    "            [sg.Text('Escriba el tamaño del torneo'),sg.InputText(key='torneo', default_text = 6)],\n",
    "            [],\n",
    "            [sg.Text('Escriba el numero de puntos para el operador de cruza'),sg.InputText(key='npuntos', default_text = 2)],\n",
    "            [],\n",
    "            [sg.Text('Escriba el numero de hijos para el operador de cruza'),sg.InputText(key='nhijos', default_text = 2)],\n",
    "            [],\n",
    "            [sg.Text('Escriba rango inferior de la funcion'),sg.InputText(key='rangoInf', default_text = -10)],\n",
    "            [],\n",
    "            [sg.Text('Escriba rango superior de la funcion'),sg.InputText(key='rangoSup', default_text = 10)],\n",
    "            [],\n",
    "            [sg.Radio('Maximizar', \"maximizar\"), sg.Radio('Minimizar', \"maximizar\", default=True)],\n",
    "            [sg.Radio('Generacional', \"generacional\"), sg.Radio('Estacionario', \"generacional\", default=True)],\n",
    "            [sg.Text('Seleccione operador de reemplazo'),sg.InputCombo(('reemplazo_rand', 'reemplazo_CD', 'TRS'),size=(25,1),default_value=\"reemplazo_CD\")],\n",
    "            [sg.Text('Seleccione la función a evaluar'),sg.InputCombo(('Alpine1', 'Dixon', 'Quintic','Schwefel','Streched','SumSquares'),size=(25,1),default_value=\"Alpine1\"),],\n",
    "            [sg.OK(), sg.Cancel()]\n",
    "        ]\n",
    "\n",
    "\n",
    "\n",
    "window = sg.Window('Get filename example', layout)\n",
    "event, values = window.read()\n",
    "window.close()"
   ]
  },
  {
   "cell_type": "code",
   "execution_count": 76,
   "metadata": {
    "executionInfo": {
     "elapsed": 1330,
     "status": "aborted",
     "timestamp": 1607991868224,
     "user": {
      "displayName": "David Vazquez",
      "photoUrl": "https://lh3.googleusercontent.com/a-/AOh14GjHoYGA8eVgXoIBIWSk9eVDmeDcobPMUlDHXOiFNQ=s64",
      "userId": "08767891319072212871"
     },
     "user_tz": 360
    },
    "id": "thQBVwOtyGCP",
    "scrolled": true
   },
   "outputs": [
    {
     "data": {
      "text/plain": [
       "{0: None,\n",
       " 'Buscar': None,\n",
       " 1: None,\n",
       " 2: None,\n",
       " 3: None,\n",
       " 4: None,\n",
       " 5: None,\n",
       " 6: None,\n",
       " 'generaciones': None,\n",
       " 'cruzamiento': None,\n",
       " 'mutation': None,\n",
       " 'peso': None,\n",
       " 'dimension': None,\n",
       " 'tam': None,\n",
       " 7: None,\n",
       " 'padres': None,\n",
       " 'torneo': None,\n",
       " 'npuntos': None,\n",
       " 'nhijos': None,\n",
       " 'rangoInf': None,\n",
       " 'rangoSup': None,\n",
       " 8: None,\n",
       " 9: None,\n",
       " 10: None,\n",
       " 11: None,\n",
       " 12: None,\n",
       " 13: None}"
      ]
     },
     "execution_count": 76,
     "metadata": {},
     "output_type": "execute_result"
    }
   ],
   "source": [
    "values\n",
    "\n"
   ]
  },
  {
   "cell_type": "markdown",
   "metadata": {
    "id": "OLaseBQYyGCQ"
   },
   "source": [
    "# Generacional\n"
   ]
  },
  {
   "cell_type": "code",
   "execution_count": 77,
   "metadata": {
    "executionInfo": {
     "elapsed": 1558,
     "status": "aborted",
     "timestamp": 1607991868460,
     "user": {
      "displayName": "David Vazquez",
      "photoUrl": "https://lh3.googleusercontent.com/a-/AOh14GjHoYGA8eVgXoIBIWSk9eVDmeDcobPMUlDHXOiFNQ=s64",
      "userId": "08767891319072212871"
     },
     "user_tz": 360
    },
    "id": "2RJaKtHuyGCQ"
   },
   "outputs": [],
   "source": [
    "def generacional(poblacion, evaluaciones, operador_seleccion, operador_cruza, operador_mutacion, probabilidad_mutacion, distancia, numero_padres, tam_torneo, puntos, nhijos, rangoInf, rangoSup, prob_cruza, generaciones,mochila,pesos = 0,pesoM=0,maximizar=True):\n",
    "    \n",
    "    nueva_poblacion = []\n",
    "    \n",
    "    while len(nueva_poblacion) < len(poblacion):\n",
    "            #print(operador_seleccion,poblacion, evaluaciones, str(distancia), numero_padres, tam_torneo )\n",
    "            #(poblacion, evaluaciones, funcionDistancia = 0, sujetos = 0, numero_padres = 0, tam_torneo = 0)\n",
    "            \n",
    "            # ------------------------------------\n",
    "            #        Operador de selección\n",
    "            # ------------------------------------\n",
    "            padres = eval(operador_seleccion + '(poblacion, evaluaciones, distancia, numero_padres, tam_torneo, maximizar)')\n",
    "            #(padres, puntos = 0, num_hijos=0)\n",
    "            #print(padres)\n",
    "            \n",
    "            # ------------------------------------\n",
    "            #       Operador de cruzamiento\n",
    "            # ------------------------------------\n",
    "            cruza_prob = random.uniform(0,1)\n",
    "            \n",
    "            if cruza_prob <= prob_cruza:\n",
    "                hijo_verificado = 0\n",
    "                while hijo_verificado < nhijos:\n",
    "                    hijo_verificado = 0\n",
    "                    hijos = eval(operador_cruza + '(padres, puntos, nhijos)')\n",
    "                    if mochila == True:\n",
    "                        for hijo in hijos:\n",
    "                            pesoT = PesoTotal(hijo,pesos,pesoM)\n",
    "                            if pesoT == True:\n",
    "                                hijo_verificado = hijo_verificado + 1\n",
    "                    else:\n",
    "                        hijo_verificado = nhijos\n",
    "\n",
    "            # Operador de Mutación    \n",
    "                for hijo in hijos:\n",
    "                    if rango[1] == 0 or rango[0] == 0:\n",
    "                        if mochila == True:\n",
    "                            pesoT = False\n",
    "                            while pesoT == False:\n",
    "                                hijo_mutado = eval(operador_mutacion+ '(hijo,probabilidad_mutacion)')\n",
    "                                pesoT = PesoTotal(hijo_mutado,pesos,pesoM)\n",
    "                            nueva_poblacion.append(hijo_mutado)\n",
    "                        else:\n",
    "                            nueva_poblacion.append(eval(operador_mutacion+ '(hijo,probabilidad_mutacion)'))\n",
    "                    else:\n",
    "                        nueva_poblacion.append(eval(operador_mutacion + '(hijo,rango,probabilidad_mutacion)'))\n",
    "    return nueva_poblacion"
   ]
  },
  {
   "cell_type": "markdown",
   "metadata": {},
   "source": [
    "# Estacionario"
   ]
  },
  {
   "cell_type": "code",
   "execution_count": 78,
   "metadata": {},
   "outputs": [],
   "source": [
    "def estacionario(poblacion, evaluaciones, operador_seleccion, operador_cruza, operador_mutacion, probabilidad_mutacion, distancia, numero_padres, tam_torneo, puntos, nhijos, rangoInf, rangoSup, prob_cruza, generaciones,mochila,pesos = 0,pesoM=0,maximizar=True):\n",
    "    \n",
    "    nuevos_hijos = []\n",
    "    bandera = 0\n",
    "    while bandera == 0:\n",
    "        # ------------------------------------\n",
    "        #        Operador de selección\n",
    "        # ------------------------------------\n",
    "        padres = eval(operador_seleccion + '(poblacion, evaluaciones, distancia, numero_padres, tam_torneo, maximizar)')\n",
    "        #(padres, puntos = 0, num_hijos=0)\n",
    "        #print(padres)\n",
    "\n",
    "        # ------------------------------------\n",
    "        #       Operador de cruzamiento\n",
    "        # ------------------------------------\n",
    "        cruza_prob = random.uniform(0,1)\n",
    "\n",
    "        if cruza_prob <= prob_cruza:\n",
    "            hijo_verificado = 0\n",
    "            while hijo_verificado < nhijos:\n",
    "                hijo_verificado = 0\n",
    "                hijos = eval(operador_cruza + '(padres, puntos, nhijos)')\n",
    "                if mochila == True:\n",
    "                    for hijo in hijos:\n",
    "                        pesoT = PesoTotal(hijo,pesos,pesoM)\n",
    "                        if pesoT == True:\n",
    "                            hijo_verificado = hijo_verificado + 1\n",
    "                else:\n",
    "                    hijo_verificado = nhijos\n",
    "\n",
    "        # Operador de Mutación    \n",
    "            for hijo in hijos:\n",
    "                if rango[1] == 0 or rango[0] == 0:\n",
    "                    if mochila == True:\n",
    "                        pesoT = False\n",
    "                        while pesoT == False:\n",
    "                            hijo_mutado = eval(operador_mutacion+ '(hijo,probabilidad_mutacion)')\n",
    "                            pesoT = PesoTotal(hijo_mutado,pesos,pesoM)\n",
    "                        nuevos_hijos.append(hijo_mutado)\n",
    "                    else:\n",
    "                        nuevos_hijos.append(eval(operador_mutacion+ '(hijo,probabilidad_mutacion)'))\n",
    "                else:\n",
    "                    nuevos_hijos.append(eval(operador_mutacion + '(hijo,rango,probabilidad_mutacion)'))\n",
    "            bandera = 1\n",
    "\n",
    "    return nuevos_hijos, padres"
   ]
  },
  {
   "cell_type": "code",
   "execution_count": 79,
   "metadata": {
    "executionInfo": {
     "elapsed": 1556,
     "status": "aborted",
     "timestamp": 1607991868460,
     "user": {
      "displayName": "David Vazquez",
      "photoUrl": "https://lh3.googleusercontent.com/a-/AOh14GjHoYGA8eVgXoIBIWSk9eVDmeDcobPMUlDHXOiFNQ=s64",
      "userId": "08767891319072212871"
     },
     "user_tz": 360
    },
    "id": "m5PpPtQoyGCQ"
   },
   "outputs": [],
   "source": [
    "def val_unicos(lista):\n",
    "    unicos = []\n",
    "\n",
    "    for i in lista:\n",
    "        if i not in unicos:\n",
    "            unicos.append(i)\n",
    "\n",
    "    return unicos"
   ]
  },
  {
   "cell_type": "markdown",
   "metadata": {},
   "source": [
    "#### Agregar que solo evalue cierto numero de evaluaciones para competencia"
   ]
  },
  {
   "cell_type": "code",
   "execution_count": 80,
   "metadata": {
    "executionInfo": {
     "elapsed": 1324,
     "status": "aborted",
     "timestamp": 1607991868224,
     "user": {
      "displayName": "David Vazquez",
      "photoUrl": "https://lh3.googleusercontent.com/a-/AOh14GjHoYGA8eVgXoIBIWSk9eVDmeDcobPMUlDHXOiFNQ=s64",
      "userId": "08767891319072212871"
     },
     "user_tz": 360
    },
    "id": "u42E9p8yyGCQ",
    "scrolled": false
   },
   "outputs": [],
   "source": [
    "if values[1] == True: #mochila\n",
    "    \n",
    "    file = open(values[0], 'r')\n",
    "    archivo = pandas.read_csv(file, sep=',')\n",
    "    pesos = archivo.P.tolist()\n",
    "    valores = archivo.V.tolist()\n",
    "    filas = len(archivo)\n",
    "    \n",
    "    poblacion = poblacionMochila(int(values['tam']),filas,pesos,int(values['peso']))\n",
    "    \n",
    "    rango = [int(values['rangoInf']),int(values['rangoSup'])]\n",
    "    print(poblacion)\n",
    "    \n",
    "    generacion = 0\n",
    "    while generacion < int(values['generaciones']):\n",
    "        if values[10] == True:\n",
    "            evaluaciones = evaluacionMochila(poblacion, valores)\n",
    "            # mejor individuo\n",
    "\n",
    "            nueva_poblacion = generacional(poblacion, evaluaciones, (values[4]), (values[5]), (values[6]), float(values['mutation']), (values[7]), int(values['padres']), int(values['torneo']), int(values['npuntos']), int(values['nhijos']), int(values['rangoInf']), int(values['rangoSup']),float(values['cruzamiento']),int(values['generaciones']),values[1],pesos,int(values['peso']),values[8])\n",
    "            nueva_poblacion = np.array(nueva_poblacion)\n",
    "            # buscar y guardar mejor individuo de poblacion actual y en que generacion salio\n",
    "            # determinar si al final devolvemos el mejor de todas las generaciones o el mejor de la ultima generación\n",
    "            poblacion = copy.copy(nueva_poblacion)\n",
    "            generacion = generacion + 1\n",
    "            print(generacion)\n",
    "        else:\n",
    "            evaluaciones = evaluacionMochila(poblacion, valores)\n",
    "            # Regresa hijos\n",
    "            nuevos_hijos, padres = estacionario(poblacion, evaluaciones, (values[4]), (values[5]), (values[6]), float(values['mutation']), (values[7]), int(values['padres']), int(values['torneo']), int(values['npuntos']), int(values['nhijos']), int(values['rangoInf']), int(values['rangoSup']),float(values['cruzamiento']),int(values['generaciones']),values[1],pesos,int(values['peso']),values[8])\n",
    "            # ------------------------------------\n",
    "            #       Operador de reemplazo\n",
    "            # ------------------------------------\n",
    "            tamanio_t = int(values['torneo'])\n",
    "            print('nuevos padres',padres)\n",
    "            print('nuevos hijos',nuevos_hijos)\n",
    "            poblacion = eval(values[12]+ '(poblacion,nuevos_hijos,valores,padres,ind_mochila,values[7],tamanio_t)')\n",
    "            generacion = generacion + 1\n",
    "            print('generacion',generacion)\n",
    "\n",
    "    print(poblacion)\n",
    "    print(evaluaciones) \n",
    "   \n",
    "\n",
    "elif values[2] == True: #viajero\n",
    "    \n",
    "    file = open(values[0], 'r')\n",
    "    archivo = pandas.read_csv(file, sep=',')\n",
    "    ciudades1 = archivo.C1.tolist()\n",
    "    ciudades2 = archivo.C2.tolist()\n",
    "    distancia = archivo.D.tolist()\n",
    "    ciudades_unicas = val_unicos(ciudades1)\n",
    "\n",
    "    filas = len(ciudades_unicas)\n",
    "    columnas = len(ciudades_unicas)\n",
    "    \n",
    "    matriz_ady = 500*np.ones((filas, columnas))\n",
    "\n",
    "    for i in range(len(ciudades1)):\n",
    "        matriz_ady[ciudades1[i] - 1, ciudades2[i] - 1] = distancia[i]\n",
    "    \n",
    "    poblacion = poblacionViajero(int(values['tam']),ciudades_unicas)\n",
    "    rango = [int(values['rangoInf']),int(values['rangoSup'])]\n",
    "    \n",
    "\n",
    "    generacion = 0\n",
    "    while generacion < int(values['generaciones']):\n",
    "        if values[10] == True:\n",
    "            print(generacion)\n",
    "            evaluaciones = evaluacionViajero (poblacion, matriz_ady)\n",
    "            nueva_poblacion = generacional(poblacion, evaluaciones, (values[4]), (values[5]), (values[6]), float(values['mutation']), (values[7]), int(values['padres']), int(values['torneo']), int(values['npuntos']), int(values['nhijos']), int(values['rangoInf']), int(values['rangoSup']),float(values['cruzamiento']),int(values['generaciones']),values[1],pesos,int(values['peso']),values[8])\n",
    "            nueva_poblacion = np.array(nueva_poblacion)\n",
    "            poblacion = copy.copy(nueva_poblacion)\n",
    "            generacion = generacion + 1\n",
    "        else:\n",
    "            evaluaciones = evaluacionViajero(poblacion, matriz_ady)\n",
    "            # Regresa hijos\n",
    "            nuevos_hijos, padres = estacionario(poblacion, evaluaciones, (values[4]), (values[5]), (values[6]), float(values['mutation']), (values[7]), int(values['padres']), int(values['torneo']), int(values['npuntos']), int(values['nhijos']), int(values['rangoInf']), int(values['rangoSup']),float(values['cruzamiento']),int(values['generaciones']),values[1],pesos,int(values['peso']),values[8])\n",
    "            # ------------------------------------\n",
    "            #       Operador de reemplazo\n",
    "            # ------------------------------------\n",
    "            tamanio_t = int(values['torneo'])\n",
    "            print('nuevos padres',padres)\n",
    "            print('nuevos hijos',nuevos_hijos)\n",
    "            poblacion = eval(values[12]+ '(poblacion,nuevos_hijos,matriz_ady,padres,ind_viajero,values[7],tamanio_t)')\n",
    "            generacion = generacion + 1\n",
    "            print('generacion',generacion)\n",
    "\n",
    "\n",
    "    print(poblacion)\n",
    "    print(evaluaciones) \n",
    "    \n",
    "    \n",
    "elif values[3] == True: #minimos\n",
    "    \n",
    "    tiempos = []\n",
    "    evaluaciones_t = []\n",
    "    \n",
    "    start_time = time.time()\n",
    "    for i in range(20):\n",
    "        \n",
    "        print(i)\n",
    "        start_time = time.time()\n",
    "        rango = [int(values['rangoInf']),int(values['rangoSup'])]\n",
    "        poblacion = poblacionMinimos(int(values['tam']),int(values['dimension']),rango)\n",
    "        #print(poblacion)\n",
    "        evaluaciones = []\n",
    "        pesos = 0\n",
    "        mejor = 10000000000000000\n",
    "        mejor_generacion = 0\n",
    "        mejor_respuesta = []\n",
    "        imax = 0\n",
    "        peor_respuesta = []\n",
    "        peor_generacion = 0\n",
    "        promedio = 0\n",
    "\n",
    "        generacion = 0\n",
    "        while generacion < int(values['generaciones']) and imax < int(values['generaciones']):\n",
    "            if values[10] == True:\n",
    "                for i in range(len(poblacion)-1):\n",
    "                    ciudadano = poblacion[i]\n",
    "                    evaluacion = eval(values[13]+'(ciudadano)')\n",
    "                    # Mejor global\n",
    "                    if evaluacion < mejor:\n",
    "                        mejor_respuesta = ciudadano\n",
    "                        mejor = evaluacion\n",
    "                        mejor_generacion = generacion\n",
    "                    evaluaciones.append(evaluacion)\n",
    "                nueva_poblacion = generacional(poblacion, evaluaciones, (values[4]), (values[5]), (values[6]), float(values['mutation']), (values[7]), int(values['padres']), int(values['torneo']), int(values['npuntos']), int(values['nhijos']), int(values['rangoInf']), int(values['rangoSup']),float(values['cruzamiento']),int(values['generaciones']),values[1],pesos,int(values['peso']),values[8])\n",
    "                nueva_poblacion = np.array(nueva_poblacion)\n",
    "                poblacion = copy.copy(nueva_poblacion)\n",
    "\n",
    "                imax = imax + (len(poblacion)-1)\n",
    "                generacion = generacion + 1\n",
    "            else:\n",
    "                for i in range(len(poblacion)-1):\n",
    "                    ciudadano = poblacion[i]\n",
    "                    evaluacion = eval(values[13]+'(ciudadano)')\n",
    "                    # Mejor global\n",
    "                    if evaluacion < mejor:\n",
    "                        mejor_respuesta = ciudadano\n",
    "                        mejor = evaluacion\n",
    "                        mejor_generacion = generacion\n",
    "                    evaluaciones.append(evaluacion)\n",
    "                # Regresa hijos\n",
    "                nuevos_hijos, padres = estacionario(poblacion, evaluaciones, (values[4]), (values[5]), (values[6]), float(values['mutation']), (values[7]), int(values['padres']), int(values['torneo']), int(values['npuntos']), int(values['nhijos']), int(values['rangoInf']), int(values['rangoSup']),float(values['cruzamiento']),int(values['generaciones']),values[1],pesos,int(values['peso']),values[8])\n",
    "                # ------------------------------------\n",
    "                #       Operador de reemplazo\n",
    "                # ------------------------------------\n",
    "                tamanio_t = int(values['torneo'])\n",
    "                poblacion = eval(values[12]+ '(poblacion,nuevos_hijos,evaluaciones,padres,ind_minimos,values[7],tamanio_t)')\n",
    "                imax = generacion\n",
    "                generacion = generacion + 1\n",
    "\n",
    "        tiempo = time.time() - start_time\n",
    "        tiempos.append(tiempo)\n",
    "        evaluaciones_t.append(evaluaciones)\n",
    "        \n",
    "        #print(poblacion)\n",
    "        #print('Mejor resultado',mejor_respuesta)\n",
    "        #print('Mejor evaluacion',mejor)\n",
    "        #print('Generacion donde esta: ', mejor_generacion)\n",
    "        #print('Imax', imax)\n",
    "        #ultimas = []\n",
    "        #for i in range(len(poblacion)-1):\n",
    "        #            ciudadano = poblacion[i]\n",
    "        #            evaluacion = eval(values[13]+'(ciudadano)')\n",
    "        #            ultimas.append(evaluacion)\n",
    "        #print('Ultimas evaluaciones', ultimas)\n",
    "    evaluaciones_t2 = []\n",
    "    for lista1 in evaluaciones_t:\n",
    "        for numero in lista1:\n",
    "            evaluaciones_t2.append(numero)\n",
    "    evaluaciones_t2 = sorted(evaluaciones_t2)\n",
    "    tiempos = sorted(tiempos)\n",
    "    mediana = np.round(len(evaluaciones_t2)/2)\n",
    "    mediana = mediana.astype(int)\n",
    "    \n",
    "    #----------\n",
    "    mediana_tiempos = np.round(len(tiempos)/2).astype(int)\n",
    "    \n",
    "    \n",
    "    print('-----------Resultados------------')\n",
    "    print('Mejor  Peor  Promedio  Mediana  Desviacion')\n",
    "    print(np.min(evaluaciones_t2),',',np.max(evaluaciones_t2),',',np.mean(evaluaciones_t2),',',evaluaciones_t2[mediana],',',np.std(evaluaciones_t2))\n",
    "    print('-----------Tiempos---------------')\n",
    "    print('Mejor       Peor      Promedio        Mediana      Desviacion')\n",
    "    print(np.min(tiempos),',',np.max(tiempos),',',np.mean(tiempos),',',tiempos[mediana_tiempos],',',np.std(tiempos))\n"
   ]
  },
  {
   "cell_type": "code",
   "execution_count": null,
   "metadata": {},
   "outputs": [],
   "source": []
  }
 ],
 "metadata": {
  "colab": {
   "collapsed_sections": [
    "CTrBoLKwbqPH",
    "pFUoZE5YCmPN",
    "IulCjO09CmPO",
    "CqMiRiC_CmPO",
    "du0UQBqnCmPO",
    "PWw18zQlCmPO",
    "af6X2mjjCmPP",
    "0LXCOsbPCmPP",
    "DLMnlku8CmPP",
    "1IKfDK8mCmPP",
    "-Il57hinZlcf",
    "sYbQy1n9O02I",
    "30WEIUKqovHD",
    "fJGyrPg8o13n",
    "j-Q4oDePrb2n",
    "9t58QfMF8Qt7",
    "Bx64JP4dm4nc",
    "Cj9ESeWuCU6h",
    "8eIcCRsUI08C",
    "nW7Bsf-lqIh1",
    "e0HNu41foAKn",
    "cR2eg9broJat",
    "3c4Xkr8FqpYJ",
    "ix6uLG0a3y21",
    "V-yjLenxYqJv",
    "9Igd7H84CmPP",
    "ekVAhN6KCmPP",
    "AdNF09PWY36a",
    "cdItQylvCmPP",
    "p5pgtjH7CmPQ",
    "KeTygXtzCmPQ",
    "96ZeBVwzYhxC",
    "XmdZgeL9CmPQ",
    "u6pTKN4kCmPT",
    "W3MJ6bXhCmPU"
   ],
   "name": "Algoritmos Geneticos (generacional).ipynb",
   "provenance": []
  },
  "kernelspec": {
   "display_name": "Python 3",
   "language": "python",
   "name": "python3"
  },
  "language_info": {
   "codemirror_mode": {
    "name": "ipython",
    "version": 3
   },
   "file_extension": ".py",
   "mimetype": "text/x-python",
   "name": "python",
   "nbconvert_exporter": "python",
   "pygments_lexer": "ipython3",
   "version": "3.7.0"
  }
 },
 "nbformat": 4,
 "nbformat_minor": 1
}
